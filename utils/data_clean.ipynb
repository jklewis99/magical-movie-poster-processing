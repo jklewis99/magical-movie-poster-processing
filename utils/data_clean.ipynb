{
 "metadata": {
  "language_info": {
   "codemirror_mode": {
    "name": "ipython",
    "version": 3
   },
   "file_extension": ".py",
   "mimetype": "text/x-python",
   "name": "python",
   "nbconvert_exporter": "python",
   "pygments_lexer": "ipython3",
   "version": "3.7.6-final"
  },
  "orig_nbformat": 2,
  "kernelspec": {
   "name": "python3",
   "display_name": "Python 3"
  }
 },
 "nbformat": 4,
 "nbformat_minor": 2,
 "cells": [
  {
   "source": [
    "# Cleaning the data so it can be used for machine learning models"
   ],
   "cell_type": "markdown",
   "metadata": {}
  },
  {
   "cell_type": "code",
   "execution_count": 1,
   "metadata": {},
   "outputs": [],
   "source": [
    "import pandas as pd\n",
    "import numpy as np"
   ]
  },
  {
   "source": [
    "## Read in the dataset"
   ],
   "cell_type": "markdown",
   "metadata": {}
  },
  {
   "cell_type": "code",
   "execution_count": 2,
   "metadata": {},
   "outputs": [
    {
     "output_type": "execute_result",
     "data": {
      "text/plain": [
       "(8873, 19)"
      ]
     },
     "metadata": {},
     "execution_count": 2
    }
   ],
   "source": [
    "movies_metadata = pd.read_csv(\"../data/movies-metadata.csv\", thousands=\",\").drop(columns=['Unnamed: 0', '_id'])\n",
    "movies_metadata.shape"
   ]
  },
  {
   "source": [
    "## Eliminate Series (non-movies)"
   ],
   "cell_type": "markdown",
   "metadata": {}
  },
  {
   "source": [
    "find how many \"movies\" are acutally series"
   ],
   "cell_type": "markdown",
   "metadata": {}
  },
  {
   "cell_type": "code",
   "execution_count": 3,
   "metadata": {},
   "outputs": [
    {
     "output_type": "execute_result",
     "data": {
      "text/plain": [
       "(59, 19)"
      ]
     },
     "metadata": {},
     "execution_count": 3
    }
   ],
   "source": [
    "movies_metadata.loc[movies_metadata['Type'] == 'series'].shape"
   ]
  },
  {
   "source": [
    "eliminate these series from the DataFrame"
   ],
   "cell_type": "markdown",
   "metadata": {}
  },
  {
   "cell_type": "code",
   "execution_count": 4,
   "metadata": {},
   "outputs": [
    {
     "output_type": "execute_result",
     "data": {
      "text/plain": [
       "(8814, 19)"
      ]
     },
     "metadata": {},
     "execution_count": 4
    }
   ],
   "source": [
    "movies_metadata_cleaned = movies_metadata.drop(movies_metadata.loc[movies_metadata['Type'] == 'series'].index)\n",
    "movies_metadata_cleaned.shape"
   ]
  },
  {
   "source": [
    "## Handle missing values and duplicates"
   ],
   "cell_type": "markdown",
   "metadata": {}
  },
  {
   "cell_type": "code",
   "execution_count": 5,
   "metadata": {},
   "outputs": [],
   "source": [
    "movies_metadata_cleaned = movies_metadata_cleaned.drop_duplicates()"
   ]
  },
  {
   "cell_type": "code",
   "execution_count": 6,
   "metadata": {},
   "outputs": [
    {
     "output_type": "execute_result",
     "data": {
      "text/plain": [
       "Language        70\n",
       "Box_office    2729\n",
       "Country         22\n",
       "Rated         1507\n",
       "imdbID           0\n",
       "Awards        2755\n",
       "Poster         639\n",
       "Director       118\n",
       "Released       241\n",
       "Writer         634\n",
       "imdbVotes      346\n",
       "Runtime        236\n",
       "Response         0\n",
       "imdbRating     345\n",
       "Title            0\n",
       "Genre           31\n",
       "Actors         158\n",
       "Type             0\n",
       "Metascore     3997\n",
       "dtype: int64"
      ]
     },
     "metadata": {},
     "execution_count": 6
    }
   ],
   "source": [
    "movies_metadata_cleaned.isnull().sum()"
   ]
  },
  {
   "source": [
    "### Let's first eliminate all movies without a movie poster"
   ],
   "cell_type": "markdown",
   "metadata": {}
  },
  {
   "cell_type": "code",
   "execution_count": 7,
   "metadata": {},
   "outputs": [
    {
     "output_type": "execute_result",
     "data": {
      "text/plain": [
       "(8163, 19)"
      ]
     },
     "metadata": {},
     "execution_count": 7
    }
   ],
   "source": [
    "movies_metadata_cleaned = movies_metadata_cleaned.dropna(subset=['Poster'])\n",
    "movies_metadata_cleaned.shape"
   ]
  },
  {
   "cell_type": "code",
   "execution_count": 8,
   "metadata": {},
   "outputs": [
    {
     "output_type": "execute_result",
     "data": {
      "text/plain": [
       "Language        23\n",
       "Box_office    2124\n",
       "Country          5\n",
       "Rated          946\n",
       "imdbID           0\n",
       "Awards        2190\n",
       "Poster           0\n",
       "Director         9\n",
       "Released        56\n",
       "Writer         365\n",
       "imdbVotes       32\n",
       "Runtime         64\n",
       "Response         0\n",
       "imdbRating      31\n",
       "Title            0\n",
       "Genre           11\n",
       "Actors          58\n",
       "Type             0\n",
       "Metascore     3375\n",
       "dtype: int64"
      ]
     },
     "metadata": {},
     "execution_count": 8
    }
   ],
   "source": [
    "movies_metadata_cleaned.isnull().sum()"
   ]
  },
  {
   "source": [
    "we will fill missing values and check the remaining missing values as we go"
   ],
   "cell_type": "markdown",
   "metadata": {}
  },
  {
   "source": [
    "fill missing genres with N/A"
   ],
   "cell_type": "markdown",
   "metadata": {}
  },
  {
   "cell_type": "code",
   "execution_count": 9,
   "metadata": {},
   "outputs": [],
   "source": [
    "movies_metadata_cleaned['Genre'].fillna(\"N/A\", inplace=True)"
   ]
  },
  {
   "cell_type": "code",
   "execution_count": 10,
   "metadata": {},
   "outputs": [
    {
     "output_type": "execute_result",
     "data": {
      "text/plain": [
       "R            3358\n",
       "PG-13        2025\n",
       "PG           1254\n",
       "NOT RATED     260\n",
       "G             170\n",
       "UNRATED       119\n",
       "NC-17          15\n",
       "X               7\n",
       "TV-MA           3\n",
       "Not Rated       1\n",
       "M/PG            1\n",
       "TV-14           1\n",
       "PASSED          1\n",
       "AO              1\n",
       "TV-PG           1\n",
       "Name: Rated, dtype: int64"
      ]
     },
     "metadata": {},
     "execution_count": 10
    }
   ],
   "source": [
    "movies_metadata_cleaned['Rated'].value_counts()"
   ]
  },
  {
   "source": [
    "We will also drop any movie that isn't either g, pg, pg-13, r, or not rated "
   ],
   "cell_type": "markdown",
   "metadata": {}
  },
  {
   "cell_type": "code",
   "execution_count": 11,
   "metadata": {},
   "outputs": [
    {
     "output_type": "execute_result",
     "data": {
      "text/plain": [
       "R            3358\n",
       "PG-13        2025\n",
       "PG           1254\n",
       "NOT RATED     261\n",
       "G             170\n",
       "UNRATED       119\n",
       "Name: Rated, dtype: int64"
      ]
     },
     "metadata": {},
     "execution_count": 11
    }
   ],
   "source": [
    "# convert to upper case bc of the one \"not rated\" value with different cases \n",
    "movies_metadata_cleaned['Rated'] = movies_metadata_cleaned['Rated'].str.upper()\n",
    "movies_metadata_cleaned = movies_metadata_cleaned.loc[movies_metadata_cleaned['Rated'].isin(['R', 'PG-13', 'PG', 'G', 'NOT RATED', 'UNRATED'])]\n",
    "movies_metadata_cleaned['Rated'].value_counts()"
   ]
  },
  {
   "cell_type": "code",
   "execution_count": 12,
   "metadata": {},
   "outputs": [
    {
     "output_type": "execute_result",
     "data": {
      "text/plain": [
       "Language         8\n",
       "Box_office    1688\n",
       "Country          2\n",
       "Rated            0\n",
       "imdbID           0\n",
       "Awards        1770\n",
       "Poster           0\n",
       "Director         2\n",
       "Released        19\n",
       "Writer         191\n",
       "imdbVotes        1\n",
       "Runtime         15\n",
       "Response         0\n",
       "imdbRating       0\n",
       "Title            0\n",
       "Genre            0\n",
       "Actors          14\n",
       "Type             0\n",
       "Metascore     2754\n",
       "dtype: int64"
      ]
     },
     "metadata": {},
     "execution_count": 12
    }
   ],
   "source": [
    "movies_metadata_cleaned.isnull().sum()"
   ]
  },
  {
   "source": [
    "Fill language, country, and runtime with the modes in their respective column"
   ],
   "cell_type": "markdown",
   "metadata": {}
  },
  {
   "cell_type": "code",
   "execution_count": 13,
   "metadata": {},
   "outputs": [],
   "source": [
    "for col in ['Language', 'Country', 'Runtime']:\n",
    "    movies_metadata_cleaned[col].fillna(movies_metadata_cleaned[col].mode()[0], inplace=True)"
   ]
  },
  {
   "cell_type": "code",
   "execution_count": 14,
   "metadata": {},
   "outputs": [
    {
     "output_type": "execute_result",
     "data": {
      "text/plain": [
       "Language         0\n",
       "Box_office    1688\n",
       "Country          0\n",
       "Rated            0\n",
       "imdbID           0\n",
       "Awards        1770\n",
       "Poster           0\n",
       "Director         2\n",
       "Released        19\n",
       "Writer         191\n",
       "imdbVotes        1\n",
       "Runtime          0\n",
       "Response         0\n",
       "imdbRating       0\n",
       "Title            0\n",
       "Genre            0\n",
       "Actors          14\n",
       "Type             0\n",
       "Metascore     2754\n",
       "dtype: int64"
      ]
     },
     "metadata": {},
     "execution_count": 14
    }
   ],
   "source": [
    "movies_metadata_cleaned.isnull().sum()"
   ]
  },
  {
   "source": [
    "replace the one movie without a value for imdbVotes with the average"
   ],
   "cell_type": "markdown",
   "metadata": {}
  },
  {
   "cell_type": "code",
   "execution_count": 15,
   "metadata": {},
   "outputs": [
    {
     "output_type": "execute_result",
     "data": {
      "text/plain": [
       "    Language  Box_office Country Rated     imdbID                   Awards  \\\n",
       "523  English   4671831.0     USA     R  tt0088258  3 wins & 2 nominations.   \n",
       "\n",
       "                                                Poster    Director  \\\n",
       "523  http://ia.media-imdb.com/images/M/MV5BMTQ2MTIz...  Rob Reiner   \n",
       "\n",
       "        Released                                             Writer  \\\n",
       "523  02 Mar 1984  Christopher Guest, Michael McKean, Harry Shear...   \n",
       "\n",
       "     imdbVotes Runtime  Response  imdbRating               Title  \\\n",
       "523        NaN  82 min      True         8.0  This Is Spinal Tap   \n",
       "\n",
       "             Genre                                             Actors   Type  \\\n",
       "523  Comedy, Music  Rob Reiner, Kimberly Stringer, Chazz Dominguez...  movie   \n",
       "\n",
       "     Metascore  \n",
       "523       85.0  "
      ],
      "text/html": "<div>\n<style scoped>\n    .dataframe tbody tr th:only-of-type {\n        vertical-align: middle;\n    }\n\n    .dataframe tbody tr th {\n        vertical-align: top;\n    }\n\n    .dataframe thead th {\n        text-align: right;\n    }\n</style>\n<table border=\"1\" class=\"dataframe\">\n  <thead>\n    <tr style=\"text-align: right;\">\n      <th></th>\n      <th>Language</th>\n      <th>Box_office</th>\n      <th>Country</th>\n      <th>Rated</th>\n      <th>imdbID</th>\n      <th>Awards</th>\n      <th>Poster</th>\n      <th>Director</th>\n      <th>Released</th>\n      <th>Writer</th>\n      <th>imdbVotes</th>\n      <th>Runtime</th>\n      <th>Response</th>\n      <th>imdbRating</th>\n      <th>Title</th>\n      <th>Genre</th>\n      <th>Actors</th>\n      <th>Type</th>\n      <th>Metascore</th>\n    </tr>\n  </thead>\n  <tbody>\n    <tr>\n      <th>523</th>\n      <td>English</td>\n      <td>4671831.0</td>\n      <td>USA</td>\n      <td>R</td>\n      <td>tt0088258</td>\n      <td>3 wins &amp; 2 nominations.</td>\n      <td>http://ia.media-imdb.com/images/M/MV5BMTQ2MTIz...</td>\n      <td>Rob Reiner</td>\n      <td>02 Mar 1984</td>\n      <td>Christopher Guest, Michael McKean, Harry Shear...</td>\n      <td>NaN</td>\n      <td>82 min</td>\n      <td>True</td>\n      <td>8.0</td>\n      <td>This Is Spinal Tap</td>\n      <td>Comedy, Music</td>\n      <td>Rob Reiner, Kimberly Stringer, Chazz Dominguez...</td>\n      <td>movie</td>\n      <td>85.0</td>\n    </tr>\n  </tbody>\n</table>\n</div>"
     },
     "metadata": {},
     "execution_count": 15
    }
   ],
   "source": [
    "movies_metadata_cleaned[movies_metadata_cleaned['imdbVotes'].isnull()]"
   ]
  },
  {
   "cell_type": "code",
   "execution_count": 16,
   "metadata": {},
   "outputs": [],
   "source": [
    "movies_metadata_cleaned['imdbVotes'].fillna(movies_metadata_cleaned['imdbVotes'].mean(), inplace=True)"
   ]
  },
  {
   "source": [
    "\"The Animation SHow\" is a collection of short films. It can be eliminated."
   ],
   "cell_type": "markdown",
   "metadata": {}
  },
  {
   "cell_type": "code",
   "execution_count": 17,
   "metadata": {},
   "outputs": [
    {
     "output_type": "execute_result",
     "data": {
      "text/plain": [
       "                       Language  Box_office Country      Rated     imdbID  \\\n",
       "4450  English, Japanese, German         NaN     USA          R  tt0372763   \n",
       "5090                    English         NaN     USA  NOT RATED  tt0436070   \n",
       "\n",
       "     Awards                                             Poster Director  \\\n",
       "4450    NaN  http://ia.media-imdb.com/images/M/MV5BMTI3MzE1...      NaN   \n",
       "5090    NaN  http://ia.media-imdb.com/images/M/MV5BMTI3MzE1...      NaN   \n",
       "\n",
       "         Released Writer  imdbVotes Runtime  Response  imdbRating  \\\n",
       "4450  18 Jul 2003    NaN      469.0  94 min      True         7.6   \n",
       "5090  18 Feb 2005    NaN      201.0  85 min      True         7.1   \n",
       "\n",
       "                        Title              Genre Actors   Type  Metascore  \n",
       "4450       The Animation Show  Animation, Comedy    NaN  movie        NaN  \n",
       "5090  The Animation Show 2005          Animation    NaN  movie       76.0  "
      ],
      "text/html": "<div>\n<style scoped>\n    .dataframe tbody tr th:only-of-type {\n        vertical-align: middle;\n    }\n\n    .dataframe tbody tr th {\n        vertical-align: top;\n    }\n\n    .dataframe thead th {\n        text-align: right;\n    }\n</style>\n<table border=\"1\" class=\"dataframe\">\n  <thead>\n    <tr style=\"text-align: right;\">\n      <th></th>\n      <th>Language</th>\n      <th>Box_office</th>\n      <th>Country</th>\n      <th>Rated</th>\n      <th>imdbID</th>\n      <th>Awards</th>\n      <th>Poster</th>\n      <th>Director</th>\n      <th>Released</th>\n      <th>Writer</th>\n      <th>imdbVotes</th>\n      <th>Runtime</th>\n      <th>Response</th>\n      <th>imdbRating</th>\n      <th>Title</th>\n      <th>Genre</th>\n      <th>Actors</th>\n      <th>Type</th>\n      <th>Metascore</th>\n    </tr>\n  </thead>\n  <tbody>\n    <tr>\n      <th>4450</th>\n      <td>English, Japanese, German</td>\n      <td>NaN</td>\n      <td>USA</td>\n      <td>R</td>\n      <td>tt0372763</td>\n      <td>NaN</td>\n      <td>http://ia.media-imdb.com/images/M/MV5BMTI3MzE1...</td>\n      <td>NaN</td>\n      <td>18 Jul 2003</td>\n      <td>NaN</td>\n      <td>469.0</td>\n      <td>94 min</td>\n      <td>True</td>\n      <td>7.6</td>\n      <td>The Animation Show</td>\n      <td>Animation, Comedy</td>\n      <td>NaN</td>\n      <td>movie</td>\n      <td>NaN</td>\n    </tr>\n    <tr>\n      <th>5090</th>\n      <td>English</td>\n      <td>NaN</td>\n      <td>USA</td>\n      <td>NOT RATED</td>\n      <td>tt0436070</td>\n      <td>NaN</td>\n      <td>http://ia.media-imdb.com/images/M/MV5BMTI3MzE1...</td>\n      <td>NaN</td>\n      <td>18 Feb 2005</td>\n      <td>NaN</td>\n      <td>201.0</td>\n      <td>85 min</td>\n      <td>True</td>\n      <td>7.1</td>\n      <td>The Animation Show 2005</td>\n      <td>Animation</td>\n      <td>NaN</td>\n      <td>movie</td>\n      <td>76.0</td>\n    </tr>\n  </tbody>\n</table>\n</div>"
     },
     "metadata": {},
     "execution_count": 17
    }
   ],
   "source": [
    "movies_metadata_cleaned[movies_metadata_cleaned['Director'].isnull()]"
   ]
  },
  {
   "cell_type": "code",
   "execution_count": 18,
   "metadata": {},
   "outputs": [],
   "source": [
    "movies_metadata_cleaned = movies_metadata_cleaned.dropna(subset=['Director'])"
   ]
  },
  {
   "cell_type": "code",
   "execution_count": 19,
   "metadata": {},
   "outputs": [
    {
     "output_type": "execute_result",
     "data": {
      "text/plain": [
       "Language         0\n",
       "Box_office    1686\n",
       "Country          0\n",
       "Rated            0\n",
       "imdbID           0\n",
       "Awards        1768\n",
       "Poster           0\n",
       "Director         0\n",
       "Released        19\n",
       "Writer         189\n",
       "imdbVotes        0\n",
       "Runtime          0\n",
       "Response         0\n",
       "imdbRating       0\n",
       "Title            0\n",
       "Genre            0\n",
       "Actors          12\n",
       "Type             0\n",
       "Metascore     2753\n",
       "dtype: int64"
      ]
     },
     "metadata": {},
     "execution_count": 19
    }
   ],
   "source": [
    "movies_metadata_cleaned.isnull().sum()"
   ]
  },
  {
   "cell_type": "code",
   "execution_count": 20,
   "metadata": {},
   "outputs": [
    {
     "output_type": "execute_result",
     "data": {
      "text/plain": [
       "                             Language  Box_office           Country  \\\n",
       "298           English, German, French         NaN               USA   \n",
       "1281                          English         NaN               USA   \n",
       "2825                          English         NaN               USA   \n",
       "3209                          English   1025234.0               USA   \n",
       "3244  English, Serbo-Croatian, French     12903.0               USA   \n",
       "3464                          English     79823.0               USA   \n",
       "4191                          English         NaN               USA   \n",
       "4487                          English         NaN            Canada   \n",
       "4505                          English         NaN               USA   \n",
       "5422                          English    252726.0               USA   \n",
       "5489                          English         NaN               USA   \n",
       "5548                          English         NaN               USA   \n",
       "6248                          English         NaN               USA   \n",
       "6501                          English     84944.0               USA   \n",
       "6507                          English    106042.0               USA   \n",
       "6590                          English      5107.0               USA   \n",
       "7234                          English         NaN            Canada   \n",
       "7243                          English      2647.0       UK, Ireland   \n",
       "7957                 Spanish, English         NaN  Spain, Argentina   \n",
       "\n",
       "          Rated     imdbID                   Awards  \\\n",
       "298          PG  tt0083947                      NaN   \n",
       "1281         PG  tt0095047            1 nomination.   \n",
       "2825          R  tt0117638                      NaN   \n",
       "3209          R  tt0127722   3 wins & 1 nomination.   \n",
       "3244          R  tt0120070                  2 wins.   \n",
       "3464          R  tt0220095                      NaN   \n",
       "4191      PG-13  tt0259017                      NaN   \n",
       "4487          R  tt0351708                      NaN   \n",
       "4505  NOT RATED  tt0338497                      NaN   \n",
       "5422         PG  tt0785025                      NaN   \n",
       "5489          R  tt0487894                      NaN   \n",
       "5548      PG-13  tt0418206                      NaN   \n",
       "6248  NOT RATED  tt1288553                      NaN   \n",
       "6501          R  tt0838241                   1 win.   \n",
       "6507    UNRATED  tt1326900   1 win & 2 nominations.   \n",
       "6590      PG-13  tt0843876                      NaN   \n",
       "7234      PG-13  tt1409006                      NaN   \n",
       "7243          R  tt1606259           2 nominations.   \n",
       "7957         PG  tt1634003  8 wins & 5 nominations.   \n",
       "\n",
       "                                                 Poster              Director  \\\n",
       "298   http://ia.media-imdb.com/images/M/MV5BODgyNDI3...        Fred Zinnemann   \n",
       "1281  http://ia.media-imdb.com/images/M/MV5BMTE5OTgx...       Charles Matthau   \n",
       "2825  http://ia.media-imdb.com/images/M/MV5BMTQ0MDgy...              Dan Bell   \n",
       "3209  http://ia.media-imdb.com/images/M/MV5BMTYwMjA1...           Larry Clark   \n",
       "3244  http://ia.media-imdb.com/images/M/MV5BMTkwNTE1...   Predrag Antonijevic   \n",
       "3464  http://ia.media-imdb.com/images/M/MV5BMTA2OTc3...  Richard Cummings Jr.   \n",
       "4191  http://ia.media-imdb.com/images/M/MV5BMTc5NDEz...       Robert J. Emery   \n",
       "4487  http://ia.media-imdb.com/images/M/MV5BOTYzMzY2...         Eduardo Arnal   \n",
       "4505  http://ia.media-imdb.com/images/M/MV5BMTM5NzE3...      Danny Provenzano   \n",
       "5422  http://ia.media-imdb.com/images/M/MV5BMTc1MTM2...    Michael Landon Jr.   \n",
       "5489  http://ia.media-imdb.com/images/M/MV5BMTQ3MTM1...            Alex Melli   \n",
       "5548  http://ia.media-imdb.com/images/M/MV5BMTk3MzAy...    Bernard Murray Jr.   \n",
       "6248  http://ia.media-imdb.com/images/M/MV5BMTIyNTcw...        Steve Kroschel   \n",
       "6501  http://ia.media-imdb.com/images/M/MV5BMTcwNzAy...     Chris Zamoscianyk   \n",
       "6507  http://ia.media-imdb.com/images/M/MV5BMjA2Njc1...           Aron Gaudet   \n",
       "6590  http://ia.media-imdb.com/images/M/MV5BODI4MzQz...           Jameel Khan   \n",
       "7234  http://ia.media-imdb.com/images/M/MV5BMTM0Mjcx...           Aaron James   \n",
       "7243  http://ia.media-imdb.com/images/M/MV5BMjAwNTYz...            Ian Palmer   \n",
       "7957  http://ia.media-imdb.com/images/M/MV5BMjI5MjA0...  Juan José Campanella   \n",
       "\n",
       "     Released                                             Writer  imdbVotes  \\\n",
       "298       NaN                  Michael Austin, Kay Boyle (story)      725.0   \n",
       "1281      NaN  Darren Star (story), Andrew Licht (story), Jef...      192.0   \n",
       "2825      NaN                                           Dan Bell       36.0   \n",
       "3209      NaN  Eddie Little (book), Christopher Landon, Steph...     7091.0   \n",
       "3244      NaN                                         Robert Orr     8529.0   \n",
       "3464      NaN           Ernest Nyle Brown, Julie Shannon (story)      505.0   \n",
       "4191      NaN             Robert J. Emery, Don Robertson (novel)      163.0   \n",
       "4487      NaN                                      Eduardo Arnal       42.0   \n",
       "4505      NaN                     Ted A. Bohus, Danny Provenzano      501.0   \n",
       "5422      NaN  Michael Landon Jr. (teleplay), Douglas Lloyd M...     1222.0   \n",
       "5489      NaN                    Bibi Ong-VanZandt, Gloria Uhler       39.0   \n",
       "5548      NaN                                 Bernard Murray Jr.      317.0   \n",
       "6248      NaN                                     Steve Kroschel      554.0   \n",
       "6501      NaN              Elisa Delson, Rob Dyrdek, Nino Scalia      849.0   \n",
       "6507      NaN                       Aron Gaudet, Gita Pullapilly      280.0   \n",
       "6590      NaN                                        Jameel Khan       58.0   \n",
       "7234      NaN                                        Aaron James       30.0   \n",
       "7243      NaN                                                NaN     2413.0   \n",
       "7957      NaN  Michael Broadbridge, Juan José Campanella (sto...     6341.0   \n",
       "\n",
       "      Runtime  Response  imdbRating                       Title  \\\n",
       "298   108 min      True         6.1        Five Days One Summer   \n",
       "1281   85 min      True         4.6  Doin' Time on Planet Earth   \n",
       "2825   83 min      True         5.6                    The Shot   \n",
       "3209  101 min      True         6.5     Another Day in Paradise   \n",
       "3244  103 min      True         7.3                      Savior   \n",
       "3464   91 min      True         4.9          Thicker Than Water   \n",
       "4191  105 min      True         6.6           Swimming Upstream   \n",
       "4487   30 min      True         7.9                     The Sea   \n",
       "4505  100 min      True         5.4          This Thing of Ours   \n",
       "5422   87 min      True         7.2          Love's Abiding Joy   \n",
       "5489  100 min      True         5.4    Things You Don't Tell...   \n",
       "5548   95 min      True         3.8             The Surfer King   \n",
       "6248   92 min      True         7.0         The Beautiful Truth   \n",
       "6501   88 min      True         6.7               Street Dreams   \n",
       "6507   84 min      True         7.5           The Way We Get By   \n",
       "6590   91 min      True         7.2                   The Strip   \n",
       "7234   90 min      True         8.0                Campus Radio   \n",
       "7243   97 min      True         6.8                     Knuckle   \n",
       "7957  106 min      True         6.7                   Underdogs   \n",
       "\n",
       "                              Genre  \\\n",
       "298                           Drama   \n",
       "1281                         Comedy   \n",
       "2825                         Comedy   \n",
       "3209         Crime, Drama, Thriller   \n",
       "3244                     Drama, War   \n",
       "3464                          Drama   \n",
       "4191                          Drama   \n",
       "4487                          Short   \n",
       "4505                   Crime, Drama   \n",
       "5422                 Drama, Western   \n",
       "5489                       Thriller   \n",
       "5548                         Comedy   \n",
       "6248                    Documentary   \n",
       "6501                          Drama   \n",
       "6507                    Documentary   \n",
       "6590                         Comedy   \n",
       "7234                  Comedy, Drama   \n",
       "7243  Documentary, Biography, Drama   \n",
       "7957   Animation, Adventure, Family   \n",
       "\n",
       "                                                 Actors   Type  Metascore  \n",
       "298   Sean Connery, Betsy Brantley, Lambert Wilson, ...  movie        NaN  \n",
       "1281  Nicholas Strouse, Andrea Thompson, Martha Scot...  movie        NaN  \n",
       "2825  Dan Bell, Michael Rivkin, Jude Horowitz, Vince...  movie        NaN  \n",
       "3209  James Woods, Melanie Griffith, Vincent Karthei...  movie        NaN  \n",
       "3244  Nastassja Kinski, Pascal Rollin, Catlin Foster...  movie        NaN  \n",
       "3464                Mack 10, Fat Joe, Ice Cube, MC Eiht  movie        NaN  \n",
       "4191  Matt Czuchry, Ben Savage, Jeffrey DeMunn, Kell...  movie        NaN  \n",
       "4487  Stefany Mathias, Eric Blais, Andrew Jackson, P...  movie        NaN  \n",
       "4505  Frank Vincent, Vincent Pastore, Louis Vanaria,...  movie       36.0  \n",
       "5422  Erin Cottrell, Dale Midkiff, Logan Bartholomew...  movie        NaN  \n",
       "5489  Ryan Reyes, Noel Thurman, Amanda Bauman, Edwar...  movie        NaN  \n",
       "5548  Randy Wayne, Ben Ziff, Cerina Vincent, Keri Ly...  movie        NaN  \n",
       "6248  Charlotte Gerson, Jay Kordich, Garrett Krosche...  movie        NaN  \n",
       "6501  Paul Rodriguez, Ryan Dunn, Rob Dyrdek, Terry K...  movie        NaN  \n",
       "6507          Joan Gaudet, William Knight, Gerald Mundy  movie       67.0  \n",
       "6590  Dave Foley, Rodney Scott, Billy Aaron Brown, F...  movie       24.0  \n",
       "7234  Tom Belding, Royce Boswell, Michael Bourland, ...  movie        NaN  \n",
       "7243  James Quinn McDonagh, Michael Quinn McDonagh, ...  movie       65.0  \n",
       "7957  Gabriel Almirón, Federico Cecere, Ezequiel Cip...  movie       38.0  "
      ],
      "text/html": "<div>\n<style scoped>\n    .dataframe tbody tr th:only-of-type {\n        vertical-align: middle;\n    }\n\n    .dataframe tbody tr th {\n        vertical-align: top;\n    }\n\n    .dataframe thead th {\n        text-align: right;\n    }\n</style>\n<table border=\"1\" class=\"dataframe\">\n  <thead>\n    <tr style=\"text-align: right;\">\n      <th></th>\n      <th>Language</th>\n      <th>Box_office</th>\n      <th>Country</th>\n      <th>Rated</th>\n      <th>imdbID</th>\n      <th>Awards</th>\n      <th>Poster</th>\n      <th>Director</th>\n      <th>Released</th>\n      <th>Writer</th>\n      <th>imdbVotes</th>\n      <th>Runtime</th>\n      <th>Response</th>\n      <th>imdbRating</th>\n      <th>Title</th>\n      <th>Genre</th>\n      <th>Actors</th>\n      <th>Type</th>\n      <th>Metascore</th>\n    </tr>\n  </thead>\n  <tbody>\n    <tr>\n      <th>298</th>\n      <td>English, German, French</td>\n      <td>NaN</td>\n      <td>USA</td>\n      <td>PG</td>\n      <td>tt0083947</td>\n      <td>NaN</td>\n      <td>http://ia.media-imdb.com/images/M/MV5BODgyNDI3...</td>\n      <td>Fred Zinnemann</td>\n      <td>NaN</td>\n      <td>Michael Austin, Kay Boyle (story)</td>\n      <td>725.0</td>\n      <td>108 min</td>\n      <td>True</td>\n      <td>6.1</td>\n      <td>Five Days One Summer</td>\n      <td>Drama</td>\n      <td>Sean Connery, Betsy Brantley, Lambert Wilson, ...</td>\n      <td>movie</td>\n      <td>NaN</td>\n    </tr>\n    <tr>\n      <th>1281</th>\n      <td>English</td>\n      <td>NaN</td>\n      <td>USA</td>\n      <td>PG</td>\n      <td>tt0095047</td>\n      <td>1 nomination.</td>\n      <td>http://ia.media-imdb.com/images/M/MV5BMTE5OTgx...</td>\n      <td>Charles Matthau</td>\n      <td>NaN</td>\n      <td>Darren Star (story), Andrew Licht (story), Jef...</td>\n      <td>192.0</td>\n      <td>85 min</td>\n      <td>True</td>\n      <td>4.6</td>\n      <td>Doin' Time on Planet Earth</td>\n      <td>Comedy</td>\n      <td>Nicholas Strouse, Andrea Thompson, Martha Scot...</td>\n      <td>movie</td>\n      <td>NaN</td>\n    </tr>\n    <tr>\n      <th>2825</th>\n      <td>English</td>\n      <td>NaN</td>\n      <td>USA</td>\n      <td>R</td>\n      <td>tt0117638</td>\n      <td>NaN</td>\n      <td>http://ia.media-imdb.com/images/M/MV5BMTQ0MDgy...</td>\n      <td>Dan Bell</td>\n      <td>NaN</td>\n      <td>Dan Bell</td>\n      <td>36.0</td>\n      <td>83 min</td>\n      <td>True</td>\n      <td>5.6</td>\n      <td>The Shot</td>\n      <td>Comedy</td>\n      <td>Dan Bell, Michael Rivkin, Jude Horowitz, Vince...</td>\n      <td>movie</td>\n      <td>NaN</td>\n    </tr>\n    <tr>\n      <th>3209</th>\n      <td>English</td>\n      <td>1025234.0</td>\n      <td>USA</td>\n      <td>R</td>\n      <td>tt0127722</td>\n      <td>3 wins &amp; 1 nomination.</td>\n      <td>http://ia.media-imdb.com/images/M/MV5BMTYwMjA1...</td>\n      <td>Larry Clark</td>\n      <td>NaN</td>\n      <td>Eddie Little (book), Christopher Landon, Steph...</td>\n      <td>7091.0</td>\n      <td>101 min</td>\n      <td>True</td>\n      <td>6.5</td>\n      <td>Another Day in Paradise</td>\n      <td>Crime, Drama, Thriller</td>\n      <td>James Woods, Melanie Griffith, Vincent Karthei...</td>\n      <td>movie</td>\n      <td>NaN</td>\n    </tr>\n    <tr>\n      <th>3244</th>\n      <td>English, Serbo-Croatian, French</td>\n      <td>12903.0</td>\n      <td>USA</td>\n      <td>R</td>\n      <td>tt0120070</td>\n      <td>2 wins.</td>\n      <td>http://ia.media-imdb.com/images/M/MV5BMTkwNTE1...</td>\n      <td>Predrag Antonijevic</td>\n      <td>NaN</td>\n      <td>Robert Orr</td>\n      <td>8529.0</td>\n      <td>103 min</td>\n      <td>True</td>\n      <td>7.3</td>\n      <td>Savior</td>\n      <td>Drama, War</td>\n      <td>Nastassja Kinski, Pascal Rollin, Catlin Foster...</td>\n      <td>movie</td>\n      <td>NaN</td>\n    </tr>\n    <tr>\n      <th>3464</th>\n      <td>English</td>\n      <td>79823.0</td>\n      <td>USA</td>\n      <td>R</td>\n      <td>tt0220095</td>\n      <td>NaN</td>\n      <td>http://ia.media-imdb.com/images/M/MV5BMTA2OTc3...</td>\n      <td>Richard Cummings Jr.</td>\n      <td>NaN</td>\n      <td>Ernest Nyle Brown, Julie Shannon (story)</td>\n      <td>505.0</td>\n      <td>91 min</td>\n      <td>True</td>\n      <td>4.9</td>\n      <td>Thicker Than Water</td>\n      <td>Drama</td>\n      <td>Mack 10, Fat Joe, Ice Cube, MC Eiht</td>\n      <td>movie</td>\n      <td>NaN</td>\n    </tr>\n    <tr>\n      <th>4191</th>\n      <td>English</td>\n      <td>NaN</td>\n      <td>USA</td>\n      <td>PG-13</td>\n      <td>tt0259017</td>\n      <td>NaN</td>\n      <td>http://ia.media-imdb.com/images/M/MV5BMTc5NDEz...</td>\n      <td>Robert J. Emery</td>\n      <td>NaN</td>\n      <td>Robert J. Emery, Don Robertson (novel)</td>\n      <td>163.0</td>\n      <td>105 min</td>\n      <td>True</td>\n      <td>6.6</td>\n      <td>Swimming Upstream</td>\n      <td>Drama</td>\n      <td>Matt Czuchry, Ben Savage, Jeffrey DeMunn, Kell...</td>\n      <td>movie</td>\n      <td>NaN</td>\n    </tr>\n    <tr>\n      <th>4487</th>\n      <td>English</td>\n      <td>NaN</td>\n      <td>Canada</td>\n      <td>R</td>\n      <td>tt0351708</td>\n      <td>NaN</td>\n      <td>http://ia.media-imdb.com/images/M/MV5BOTYzMzY2...</td>\n      <td>Eduardo Arnal</td>\n      <td>NaN</td>\n      <td>Eduardo Arnal</td>\n      <td>42.0</td>\n      <td>30 min</td>\n      <td>True</td>\n      <td>7.9</td>\n      <td>The Sea</td>\n      <td>Short</td>\n      <td>Stefany Mathias, Eric Blais, Andrew Jackson, P...</td>\n      <td>movie</td>\n      <td>NaN</td>\n    </tr>\n    <tr>\n      <th>4505</th>\n      <td>English</td>\n      <td>NaN</td>\n      <td>USA</td>\n      <td>NOT RATED</td>\n      <td>tt0338497</td>\n      <td>NaN</td>\n      <td>http://ia.media-imdb.com/images/M/MV5BMTM5NzE3...</td>\n      <td>Danny Provenzano</td>\n      <td>NaN</td>\n      <td>Ted A. Bohus, Danny Provenzano</td>\n      <td>501.0</td>\n      <td>100 min</td>\n      <td>True</td>\n      <td>5.4</td>\n      <td>This Thing of Ours</td>\n      <td>Crime, Drama</td>\n      <td>Frank Vincent, Vincent Pastore, Louis Vanaria,...</td>\n      <td>movie</td>\n      <td>36.0</td>\n    </tr>\n    <tr>\n      <th>5422</th>\n      <td>English</td>\n      <td>252726.0</td>\n      <td>USA</td>\n      <td>PG</td>\n      <td>tt0785025</td>\n      <td>NaN</td>\n      <td>http://ia.media-imdb.com/images/M/MV5BMTc1MTM2...</td>\n      <td>Michael Landon Jr.</td>\n      <td>NaN</td>\n      <td>Michael Landon Jr. (teleplay), Douglas Lloyd M...</td>\n      <td>1222.0</td>\n      <td>87 min</td>\n      <td>True</td>\n      <td>7.2</td>\n      <td>Love's Abiding Joy</td>\n      <td>Drama, Western</td>\n      <td>Erin Cottrell, Dale Midkiff, Logan Bartholomew...</td>\n      <td>movie</td>\n      <td>NaN</td>\n    </tr>\n    <tr>\n      <th>5489</th>\n      <td>English</td>\n      <td>NaN</td>\n      <td>USA</td>\n      <td>R</td>\n      <td>tt0487894</td>\n      <td>NaN</td>\n      <td>http://ia.media-imdb.com/images/M/MV5BMTQ3MTM1...</td>\n      <td>Alex Melli</td>\n      <td>NaN</td>\n      <td>Bibi Ong-VanZandt, Gloria Uhler</td>\n      <td>39.0</td>\n      <td>100 min</td>\n      <td>True</td>\n      <td>5.4</td>\n      <td>Things You Don't Tell...</td>\n      <td>Thriller</td>\n      <td>Ryan Reyes, Noel Thurman, Amanda Bauman, Edwar...</td>\n      <td>movie</td>\n      <td>NaN</td>\n    </tr>\n    <tr>\n      <th>5548</th>\n      <td>English</td>\n      <td>NaN</td>\n      <td>USA</td>\n      <td>PG-13</td>\n      <td>tt0418206</td>\n      <td>NaN</td>\n      <td>http://ia.media-imdb.com/images/M/MV5BMTk3MzAy...</td>\n      <td>Bernard Murray Jr.</td>\n      <td>NaN</td>\n      <td>Bernard Murray Jr.</td>\n      <td>317.0</td>\n      <td>95 min</td>\n      <td>True</td>\n      <td>3.8</td>\n      <td>The Surfer King</td>\n      <td>Comedy</td>\n      <td>Randy Wayne, Ben Ziff, Cerina Vincent, Keri Ly...</td>\n      <td>movie</td>\n      <td>NaN</td>\n    </tr>\n    <tr>\n      <th>6248</th>\n      <td>English</td>\n      <td>NaN</td>\n      <td>USA</td>\n      <td>NOT RATED</td>\n      <td>tt1288553</td>\n      <td>NaN</td>\n      <td>http://ia.media-imdb.com/images/M/MV5BMTIyNTcw...</td>\n      <td>Steve Kroschel</td>\n      <td>NaN</td>\n      <td>Steve Kroschel</td>\n      <td>554.0</td>\n      <td>92 min</td>\n      <td>True</td>\n      <td>7.0</td>\n      <td>The Beautiful Truth</td>\n      <td>Documentary</td>\n      <td>Charlotte Gerson, Jay Kordich, Garrett Krosche...</td>\n      <td>movie</td>\n      <td>NaN</td>\n    </tr>\n    <tr>\n      <th>6501</th>\n      <td>English</td>\n      <td>84944.0</td>\n      <td>USA</td>\n      <td>R</td>\n      <td>tt0838241</td>\n      <td>1 win.</td>\n      <td>http://ia.media-imdb.com/images/M/MV5BMTcwNzAy...</td>\n      <td>Chris Zamoscianyk</td>\n      <td>NaN</td>\n      <td>Elisa Delson, Rob Dyrdek, Nino Scalia</td>\n      <td>849.0</td>\n      <td>88 min</td>\n      <td>True</td>\n      <td>6.7</td>\n      <td>Street Dreams</td>\n      <td>Drama</td>\n      <td>Paul Rodriguez, Ryan Dunn, Rob Dyrdek, Terry K...</td>\n      <td>movie</td>\n      <td>NaN</td>\n    </tr>\n    <tr>\n      <th>6507</th>\n      <td>English</td>\n      <td>106042.0</td>\n      <td>USA</td>\n      <td>UNRATED</td>\n      <td>tt1326900</td>\n      <td>1 win &amp; 2 nominations.</td>\n      <td>http://ia.media-imdb.com/images/M/MV5BMjA2Njc1...</td>\n      <td>Aron Gaudet</td>\n      <td>NaN</td>\n      <td>Aron Gaudet, Gita Pullapilly</td>\n      <td>280.0</td>\n      <td>84 min</td>\n      <td>True</td>\n      <td>7.5</td>\n      <td>The Way We Get By</td>\n      <td>Documentary</td>\n      <td>Joan Gaudet, William Knight, Gerald Mundy</td>\n      <td>movie</td>\n      <td>67.0</td>\n    </tr>\n    <tr>\n      <th>6590</th>\n      <td>English</td>\n      <td>5107.0</td>\n      <td>USA</td>\n      <td>PG-13</td>\n      <td>tt0843876</td>\n      <td>NaN</td>\n      <td>http://ia.media-imdb.com/images/M/MV5BODI4MzQz...</td>\n      <td>Jameel Khan</td>\n      <td>NaN</td>\n      <td>Jameel Khan</td>\n      <td>58.0</td>\n      <td>91 min</td>\n      <td>True</td>\n      <td>7.2</td>\n      <td>The Strip</td>\n      <td>Comedy</td>\n      <td>Dave Foley, Rodney Scott, Billy Aaron Brown, F...</td>\n      <td>movie</td>\n      <td>24.0</td>\n    </tr>\n    <tr>\n      <th>7234</th>\n      <td>English</td>\n      <td>NaN</td>\n      <td>Canada</td>\n      <td>PG-13</td>\n      <td>tt1409006</td>\n      <td>NaN</td>\n      <td>http://ia.media-imdb.com/images/M/MV5BMTM0Mjcx...</td>\n      <td>Aaron James</td>\n      <td>NaN</td>\n      <td>Aaron James</td>\n      <td>30.0</td>\n      <td>90 min</td>\n      <td>True</td>\n      <td>8.0</td>\n      <td>Campus Radio</td>\n      <td>Comedy, Drama</td>\n      <td>Tom Belding, Royce Boswell, Michael Bourland, ...</td>\n      <td>movie</td>\n      <td>NaN</td>\n    </tr>\n    <tr>\n      <th>7243</th>\n      <td>English</td>\n      <td>2647.0</td>\n      <td>UK, Ireland</td>\n      <td>R</td>\n      <td>tt1606259</td>\n      <td>2 nominations.</td>\n      <td>http://ia.media-imdb.com/images/M/MV5BMjAwNTYz...</td>\n      <td>Ian Palmer</td>\n      <td>NaN</td>\n      <td>NaN</td>\n      <td>2413.0</td>\n      <td>97 min</td>\n      <td>True</td>\n      <td>6.8</td>\n      <td>Knuckle</td>\n      <td>Documentary, Biography, Drama</td>\n      <td>James Quinn McDonagh, Michael Quinn McDonagh, ...</td>\n      <td>movie</td>\n      <td>65.0</td>\n    </tr>\n    <tr>\n      <th>7957</th>\n      <td>Spanish, English</td>\n      <td>NaN</td>\n      <td>Spain, Argentina</td>\n      <td>PG</td>\n      <td>tt1634003</td>\n      <td>8 wins &amp; 5 nominations.</td>\n      <td>http://ia.media-imdb.com/images/M/MV5BMjI5MjA0...</td>\n      <td>Juan José Campanella</td>\n      <td>NaN</td>\n      <td>Michael Broadbridge, Juan José Campanella (sto...</td>\n      <td>6341.0</td>\n      <td>106 min</td>\n      <td>True</td>\n      <td>6.7</td>\n      <td>Underdogs</td>\n      <td>Animation, Adventure, Family</td>\n      <td>Gabriel Almirón, Federico Cecere, Ezequiel Cip...</td>\n      <td>movie</td>\n      <td>38.0</td>\n    </tr>\n  </tbody>\n</table>\n</div>"
     },
     "metadata": {},
     "execution_count": 20
    }
   ],
   "source": [
    "movies_metadata_cleaned[movies_metadata_cleaned['Released'].isnull()]"
   ]
  },
  {
   "source": [
    "Replace the `Released` with Wikipedia Release date. Otherwise, remove it"
   ],
   "cell_type": "markdown",
   "metadata": {}
  },
  {
   "cell_type": "code",
   "execution_count": 21,
   "metadata": {},
   "outputs": [],
   "source": [
    "movies_metadata_cleaned.loc[movies_metadata_cleaned['imdbID'] == \"tt0083947\", \"Released\"] = \"12 Nov 1982\"\n",
    "movies_metadata_cleaned.loc[movies_metadata_cleaned['imdbID'] == \"tt0095047\", 'Released'] = \"16 Sep 1988\"\n",
    "movies_metadata_cleaned.loc[movies_metadata_cleaned['imdbID'] == \"tt0127722\", 'Released'] = \"30 Dec 1998\"\n",
    "movies_metadata_cleaned.loc[movies_metadata_cleaned['imdbID'] == \"tt0120070\", 'Released'] = \"20 Nov 1998\"\n",
    "movies_metadata_cleaned.loc[movies_metadata_cleaned['imdbID'] == \"tt0220095\", 'Released'] = \"20 Oct 1999\"\n",
    "movies_metadata_cleaned.loc[movies_metadata_cleaned['imdbID'] == \"tt0338497\", 'Released'] = \"18 Jul 2003\"\n",
    "movies_metadata_cleaned.loc[movies_metadata_cleaned['imdbID'] == \"tt0785025\", 'Released'] = \"06 Oct 2006\"\n",
    "movies_metadata_cleaned.loc[movies_metadata_cleaned['imdbID'] == \"tt0418206\", 'Released'] = \"21 Aug 2007\"\n",
    "movies_metadata_cleaned.loc[movies_metadata_cleaned['imdbID'] == \"tt0838241\", 'Released'] = \"12 Jun 2009\"\n",
    "movies_metadata_cleaned.loc[movies_metadata_cleaned['imdbID'] == \"tt1326900\", 'Released'] = \"01 Jul 2009\"\n",
    "movies_metadata_cleaned.loc[movies_metadata_cleaned['imdbID'] == \"tt1606259\", 'Released'] = \"21 Jan 2011\"\n",
    "movies_metadata_cleaned.loc[movies_metadata_cleaned['imdbID'] == \"tt1634003\", 'Released'] = \"27 Aug 2014\""
   ]
  },
  {
   "cell_type": "code",
   "execution_count": 22,
   "metadata": {},
   "outputs": [],
   "source": [
    "movies_metadata_cleaned = movies_metadata_cleaned.dropna(subset=['Released'])"
   ]
  },
  {
   "cell_type": "code",
   "execution_count": 23,
   "metadata": {},
   "outputs": [
    {
     "output_type": "execute_result",
     "data": {
      "text/plain": [
       "Language         0\n",
       "Box_office    1680\n",
       "Country          0\n",
       "Rated            0\n",
       "imdbID           0\n",
       "Awards        1761\n",
       "Poster           0\n",
       "Director         0\n",
       "Released         0\n",
       "Writer         189\n",
       "imdbVotes        0\n",
       "Runtime          0\n",
       "Response         0\n",
       "imdbRating       0\n",
       "Title            0\n",
       "Genre            0\n",
       "Actors          12\n",
       "Type             0\n",
       "Metascore     2747\n",
       "dtype: int64"
      ]
     },
     "metadata": {},
     "execution_count": 23
    }
   ],
   "source": [
    "movies_metadata_cleaned.isnull().sum()"
   ]
  },
  {
   "source": [
    "Fill actors and writer with some string specifying the unknown"
   ],
   "cell_type": "markdown",
   "metadata": {}
  },
  {
   "cell_type": "code",
   "execution_count": 24,
   "metadata": {},
   "outputs": [],
   "source": [
    "for col in ['Writer', 'Actors']:\n",
    "    movies_metadata_cleaned[col].fillna('Unknown', inplace=True)"
   ]
  },
  {
   "cell_type": "code",
   "execution_count": 25,
   "metadata": {},
   "outputs": [
    {
     "output_type": "execute_result",
     "data": {
      "text/plain": [
       "Language         0\n",
       "Box_office    1680\n",
       "Country          0\n",
       "Rated            0\n",
       "imdbID           0\n",
       "Awards        1761\n",
       "Poster           0\n",
       "Director         0\n",
       "Released         0\n",
       "Writer           0\n",
       "imdbVotes        0\n",
       "Runtime          0\n",
       "Response         0\n",
       "imdbRating       0\n",
       "Title            0\n",
       "Genre            0\n",
       "Actors           0\n",
       "Type             0\n",
       "Metascore     2747\n",
       "dtype: int64"
      ]
     },
     "metadata": {},
     "execution_count": 25
    }
   ],
   "source": [
    "movies_metadata_cleaned.isnull().sum()"
   ]
  },
  {
   "source": [
    "Fill awards with different numerical encoding"
   ],
   "cell_type": "markdown",
   "metadata": {}
  },
  {
   "cell_type": "code",
   "execution_count": 26,
   "metadata": {},
   "outputs": [],
   "source": [
    "movies_metadata_cleaned['Oscar_noms'] = 0\n",
    "movies_metadata_cleaned['Oscar_wins'] = 0\n",
    "movies_metadata_cleaned['Golden_globe_noms'] = 0\n",
    "movies_metadata_cleaned['Golden_globe_wins'] = 0\n",
    "movies_metadata_cleaned['BAFTA_noms'] = 0\n",
    "movies_metadata_cleaned['BAFTA_wins'] = 0\n",
    "movies_metadata_cleaned['Other_noms'] = 0\n",
    "movies_metadata_cleaned['Other_wins'] = 0"
   ]
  },
  {
   "cell_type": "code",
   "execution_count": 27,
   "metadata": {},
   "outputs": [
    {
     "output_type": "execute_result",
     "data": {
      "text/plain": [
       "array(['Won 1 Oscar. Another 15 wins & 18 nominations.', '1 nomination.',\n",
       "       'Nominated for 1 Golden Globe. Another 2 wins & 6 nominations.',\n",
       "       '1 win.', 'Nominated for 3 Oscars. Another 1 win & 3 nominations.',\n",
       "       'Won 1 Oscar. Another 8 wins & 13 nominations.',\n",
       "       '1 win & 4 nominations.',\n",
       "       'Nominated for 1 Oscar. Another 3 wins & 7 nominations.', '1 win.',\n",
       "       'Won 4 Oscars. Another 15 wins & 14 nominations.',\n",
       "       '3 wins & 4 nominations.',\n",
       "       'Nominated for 2 Golden Globes. Another 4 nominations.',\n",
       "       '3 wins & 5 nominations.', '1 nomination.', '1 nomination.',\n",
       "       '1 nomination.', 'Nominated for 1 Oscar. Another 1 win.',\n",
       "       '1 nomination.',\n",
       "       'Nominated for 3 Golden Globes. Another 3 wins & 7 nominations.',\n",
       "       'Nominated for 2 BAFTA Film Awards. Another 2 wins & 9 nominations.',\n",
       "       'Nominated for 8 Oscars. Another 10 wins & 14 nominations.',\n",
       "       '1 nomination.', 'Won 2 Oscars. Another 23 wins & 24 nominations.',\n",
       "       '1 win & 9 nominations.', nan, '1 win & 2 nominations.',\n",
       "       '1 win & 2 nominations.',\n",
       "       'Nominated for 2 Oscars. Another 1 win & 5 nominations.',\n",
       "       '5 nominations.', nan], dtype=object)"
      ]
     },
     "metadata": {},
     "execution_count": 27
    }
   ],
   "source": [
    "awards_array = movies_metadata_cleaned['Awards'].values\n",
    "awards_array[:30]"
   ]
  },
  {
   "cell_type": "code",
   "execution_count": 28,
   "metadata": {},
   "outputs": [],
   "source": [
    "import re # import regexp\n",
    "def get_awards(series_object):\n",
    "    # if series_object['Awards'].isnull():\n",
    "    #     return\n",
    "    if isinstance(series_object['Awards'], str):\n",
    "        awards = series_object['Awards'].split(\". \")\n",
    "        for award in awards:\n",
    "            award_lower = award.lower()\n",
    "            numeric = re.sub(\"[^0-9]\", \" \", award).split()\n",
    "            if \"Oscar\" in award_lower:\n",
    "                if \"nominated\" in award_lower:\n",
    "                    series_object['Oscar_noms'] = int(numeric[0])\n",
    "                else:\n",
    "                    series_object['Oscar_wins'] = int(numeric[0])\n",
    "            \n",
    "            elif \"golden globe\" in award_lower:\n",
    "                if \"nominated\" in award_lower:\n",
    "                    series_object['Golden_globe_noms'] = int(numeric[0])\n",
    "                else:\n",
    "                    series_object['Golden_globe_wins'] = int(numeric[0])\n",
    "\n",
    "            elif \"bafta\" in award_lower:\n",
    "                if \"nominated\" in award_lower:\n",
    "                    series_object['BAFTA_noms'] = int(numeric[0])\n",
    "                else:\n",
    "                    series_object['BAFTA_wins'] = int(numeric[0])\n",
    "            \n",
    "            elif \"&\" in award_lower:\n",
    "                wins, noms = award_lower.split(\"&\")\n",
    "                series_object['Other_wins'] = int(re.sub(\"[^0-9]\", \" \", wins))\n",
    "                series_object['Other_noms'] = int(re.sub(\"[^0-9]\", \" \", noms))\n",
    "            \n",
    "            elif \"win\" in award_lower:\n",
    "                series_object['Other_wins'] = int(numeric[0])\n",
    "            \n",
    "            elif \"nomination\" in award_lower:\n",
    "                series_object['Other_noms'] = int(numeric[0])\n",
    "    return series_object"
   ]
  },
  {
   "cell_type": "code",
   "execution_count": 29,
   "metadata": {
    "tags": []
   },
   "outputs": [],
   "source": [
    "movies_metadata_cleaned = movies_metadata_cleaned.apply(get_awards, axis=1)"
   ]
  },
  {
   "cell_type": "code",
   "execution_count": 30,
   "metadata": {},
   "outputs": [],
   "source": [
    "movies_metadata_cleaned = movies_metadata_cleaned.drop(columns=['Awards', 'Response', 'Type'])"
   ]
  },
  {
   "cell_type": "code",
   "execution_count": 31,
   "metadata": {},
   "outputs": [
    {
     "output_type": "execute_result",
     "data": {
      "text/plain": [
       "Language                0\n",
       "Box_office           1680\n",
       "Country                 0\n",
       "Rated                   0\n",
       "imdbID                  0\n",
       "Poster                  0\n",
       "Director                0\n",
       "Released                0\n",
       "Writer                  0\n",
       "imdbVotes               0\n",
       "Runtime                 0\n",
       "imdbRating              0\n",
       "Title                   0\n",
       "Genre                   0\n",
       "Actors                  0\n",
       "Metascore            2747\n",
       "Oscar_noms              0\n",
       "Oscar_wins              0\n",
       "Golden_globe_noms       0\n",
       "Golden_globe_wins       0\n",
       "BAFTA_noms              0\n",
       "BAFTA_wins              0\n",
       "Other_noms              0\n",
       "Other_wins              0\n",
       "dtype: int64"
      ]
     },
     "metadata": {},
     "execution_count": 31
    }
   ],
   "source": [
    "movies_metadata_cleaned.isnull().sum()"
   ]
  },
  {
   "cell_type": "code",
   "execution_count": 32,
   "metadata": {},
   "outputs": [
    {
     "output_type": "stream",
     "name": "stdout",
     "text": [
      "55.0\n54.24960505529226\n"
     ]
    }
   ],
   "source": [
    "print(movies_metadata_cleaned['Metascore'].median())\n",
    "print(movies_metadata_cleaned['Metascore'].mean())"
   ]
  },
  {
   "source": [
    "These values are similar, so we can confidently fill the remaining 2700+ values with the mean?"
   ],
   "cell_type": "markdown",
   "metadata": {}
  },
  {
   "cell_type": "code",
   "execution_count": 33,
   "metadata": {},
   "outputs": [],
   "source": [
    "movies_metadata_cleaned['Metascore'].fillna(movies_metadata_cleaned['Metascore'].mean(), inplace=True)"
   ]
  },
  {
   "cell_type": "code",
   "execution_count": 34,
   "metadata": {},
   "outputs": [
    {
     "output_type": "execute_result",
     "data": {
      "text/plain": [
       "Language                0\n",
       "Box_office           1680\n",
       "Country                 0\n",
       "Rated                   0\n",
       "imdbID                  0\n",
       "Poster                  0\n",
       "Director                0\n",
       "Released                0\n",
       "Writer                  0\n",
       "imdbVotes               0\n",
       "Runtime                 0\n",
       "imdbRating              0\n",
       "Title                   0\n",
       "Genre                   0\n",
       "Actors                  0\n",
       "Metascore               0\n",
       "Oscar_noms              0\n",
       "Oscar_wins              0\n",
       "Golden_globe_noms       0\n",
       "Golden_globe_wins       0\n",
       "BAFTA_noms              0\n",
       "BAFTA_wins              0\n",
       "Other_noms              0\n",
       "Other_wins              0\n",
       "dtype: int64"
      ]
     },
     "metadata": {},
     "execution_count": 34
    }
   ],
   "source": [
    "movies_metadata_cleaned.isnull().sum()"
   ]
  },
  {
   "source": [
    "Now the only remaining missing column is `Box_office`"
   ],
   "cell_type": "markdown",
   "metadata": {}
  },
  {
   "source": [
    "## Additional column for month"
   ],
   "cell_type": "markdown",
   "metadata": {}
  },
  {
   "cell_type": "code",
   "execution_count": 35,
   "metadata": {},
   "outputs": [],
   "source": [
    "month_map = {\n",
    "    'Jan': 0,\n",
    "    'Feb': 1,\n",
    "    'Mar': 2,\n",
    "    'Apr': 3,\n",
    "    'May': 4,\n",
    "    'Jun': 5,\n",
    "    'Jul': 6,\n",
    "    'Aug': 7,\n",
    "    'Sep': 8,\n",
    "    'Oct': 9,\n",
    "    'Nov': 10,\n",
    "    'Dec': 11,\n",
    "}\n",
    "def create_month(series_object, month_map=month_map):\n",
    "    month = month_map[series_object['Released'].split()[1]]\n",
    "    return month"
   ]
  },
  {
   "cell_type": "code",
   "execution_count": 36,
   "metadata": {},
   "outputs": [],
   "source": [
    "movies_metadata_cleaned['Release_month'] = movies_metadata_cleaned.apply(create_month, axis=1)"
   ]
  },
  {
   "source": [
    "## Fill runtime with int"
   ],
   "cell_type": "markdown",
   "metadata": {}
  },
  {
   "cell_type": "code",
   "execution_count": 37,
   "metadata": {},
   "outputs": [],
   "source": [
    "def runtime_int(series_object):\n",
    "    return series_object['Runtime'].split()[0]"
   ]
  },
  {
   "cell_type": "code",
   "execution_count": 38,
   "metadata": {},
   "outputs": [],
   "source": [
    "movies_metadata_cleaned['Runtime'] = movies_metadata_cleaned.apply(runtime_int, axis=1)"
   ]
  },
  {
   "source": [
    "## Save the cleaned dataframe"
   ],
   "cell_type": "markdown",
   "metadata": {}
  },
  {
   "cell_type": "code",
   "execution_count": 39,
   "metadata": {},
   "outputs": [],
   "source": [
    "movies_metadata_cleaned.to_csv(\"../data/movies-metadata-cleaned.csv\", index=False)"
   ]
  },
  {
   "cell_type": "code",
   "execution_count": null,
   "metadata": {},
   "outputs": [],
   "source": []
  }
 ]
}